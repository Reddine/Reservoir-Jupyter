{
 "cells": [
  {
   "cell_type": "markdown",
   "metadata": {
    "collapsed": true
   },
   "source": [
    "# Word Generator"
   ]
  },
  {
   "cell_type": "markdown",
   "metadata": {},
   "source": [
    "This program will use Mantas Lukoševičius' ESN to try to generate new words, from an input text. While the main program is explained in the \"Minimal ESN - EN\" notebook, we will here focus on the added parts that will help achieving this task."
   ]
  },
  {
   "cell_type": "code",
   "execution_count": 3,
   "metadata": {
    "collapsed": true
   },
   "outputs": [],
   "source": [
    "%matplotlib inline\n",
    "import numpy as np\n",
    "import matplotlib.pyplot as plt\n",
    "from scipy import linalg\n",
    "from ipywidgets import *\n",
    "from IPython.display import *\n",
    "\n",
    "def set_seed(seed=None):\n",
    "    \"\"\"Making the seed (for random values) variable if None\"\"\"\n",
    "\n",
    "    if seed is None:\n",
    "        import time\n",
    "        seed = int((time.time()*10**6) % 4294967295)\n",
    "        print(seed)\n",
    "    try:\n",
    "        np.random.seed(seed)\n",
    "        print(\"Seed used for random values:\", seed)\n",
    "    except:\n",
    "        print(\"!!! WARNING !!!: Seed was not set correctly.\")\n",
    "    return seed\n",
    "\n",
    "class Network(object):\n",
    "\n",
    "    def __init__(self, trainLen=10000, testLen=2000, initLen=1000) :\n",
    "        self.initLen = initLen\n",
    "        self.trainLen = trainLen\n",
    "        self.testLen = testLen\n",
    "        self.file = open(\"shakespeare_input.txt\", \"r\").read()\n",
    "\n",
    "nw = Network()"
   ]
  },
  {
   "cell_type": "markdown",
   "metadata": {},
   "source": [
    "The next function analyzes a text (here, the beginning of Sir Arthur Conan Doyle's <i>A Study in Scarlet</i>, containing 3608 symbols), and returns a list containing all the different characters that are present in the text. You can choose between taking case, punctuation and/or numbers into account."
   ]
  },
  {
   "cell_type": "code",
   "execution_count": 4,
   "metadata": {
    "collapsed": false
   },
   "outputs": [
    {
     "name": "stdout",
     "output_type": "stream",
     "text": [
      "Existing characters in the text : ['\\n', 'J', 'o', 'x', 'E', 'a', ']', 'v', 'S', 'A', 'u', 'n', 'I', 'Z', 's', 'z', 'm', 'w', 'W', 'R', 'j', \"'\", '.', ',', 'H', 'i', '?', 'V', 'O', 'b', 'M', 'P', 'T', '&', ' ', 'k', 'Y', '!', ';', 'F', '[', 'B', '-', 'p', 'h', 'Q', 'X', ':', 'q', 'y', '$', 'c', 'L', 't', 'G', 'l', 'D', 'K', 'C', 'U', 'r', '3', 'g', 'e', 'd', 'N', 'f'] - Number of characters : 67\n"
     ]
    }
   ],
   "source": [
    "def characters(nw, keep_upper=True, keep_punctuation=True, keep_numbers=True) :\n",
    "\n",
    "    alphabet = list(\"abcdefghijklmnopqrstuvwxyzABCDEFGHIJKLMNOPQRSTUVWXYZ0123456789 \")\n",
    "    numbers = list(\"0123456789\")\n",
    "\n",
    "    if keep_upper == False : nw.file = nw.file.lower()\n",
    "    nw.input_text = list(nw.file)\n",
    "\n",
    "    if keep_punctuation == False :\n",
    "        nw.input_text = [i for i in nw.input_text if i in alphabet]     \n",
    "\n",
    "    if keep_numbers == False :\n",
    "        nw.input_text = [i for i in nw.input_text if i not in numbers]\n",
    "\n",
    "    nw.chars = list(set(nw.input_text))\n",
    "    print(\"Existing characters in the text :\", nw.chars,\"- Number of characters :\", len(nw.chars))\n",
    "    \n",
    "    return(nw)\n",
    "\n",
    "nw = characters(nw, True, True, True)"
   ]
  },
  {
   "cell_type": "markdown",
   "metadata": {},
   "source": [
    "Finally, we will convert the text values into numerical values, usable by the algorithm. We will consider the input as a vector $u(t)$, where each line matches a different character, according to <b>nw.chars</b>. Since there only can be one character at a time, we will convert the text from nw.input_text into a nw.data vector, where each element will be a character ID according to its position in nw.chars."
   ]
  },
  {
   "cell_type": "code",
   "execution_count": 5,
   "metadata": {
    "collapsed": false
   },
   "outputs": [
    {
     "name": "stdout",
     "output_type": "stream",
     "text": [
      "[39 25 60 ..., 63 22  0]\n"
     ]
    }
   ],
   "source": [
    "nw.data = np.array([nw.chars.index(i) for i in nw.input_text])\n",
    "print(nw.data)"
   ]
  },
  {
   "cell_type": "markdown",
   "metadata": {},
   "source": [
    "Now, we can try this on our network. The input $u$ will now be a vector, matching the size of nw.chars. Every time the program \"reads\" a character, we will give the corresponding u neuron a value of 1. In any other case, this value will be 0. Let's plot the input data."
   ]
  },
  {
   "cell_type": "code",
   "execution_count": 6,
   "metadata": {
    "collapsed": false
   },
   "outputs": [
    {
     "data": {
      "image/png": "[encoded data removed]",
      "text/plain": [
       "<matplotlib.figure.Figure at 0x194f9a65b38>"
      ]
     },
     "metadata": {},
     "output_type": "display_data"
    }
   ],
   "source": [
    "def plot_figure(f) :\n",
    "    plt.figure(1).clear()\n",
    "    limit = np.arange(int(f))\n",
    "    plt.plot(limit,nw.data[0:int(f)], 'ro')\n",
    "    plt.title('Characters throughout the text')\n",
    "    \n",
    "interact(plot_figure, f=FloatSlider(value=500,min=100,max=len(nw.data),step=1,continuous_update=False));"
   ]
  },
  {
   "cell_type": "markdown",
   "metadata": {},
   "source": [
    "Let's launch the network."
   ]
  },
  {
   "cell_type": "code",
   "execution_count": 7,
   "metadata": {
    "collapsed": false
   },
   "outputs": [
    {
     "name": "stdout",
     "output_type": "stream",
     "text": [
      "3372219676\n",
      "Seed used for random values: 3372219676\n"
     ]
    }
   ],
   "source": [
    "nw.inSize = nw.outSize = len(nw.chars)\n",
    "nw.resSize = 300\n",
    "nw.a = 0.3\n",
    "nw.spectral_radius = 0.25\n",
    "nw.input_scaling = 1.\n",
    "nw.reg =  1e-8\n",
    "\n",
    "nw.mode = 'prediction'\n",
    "\n",
    "seed = None #42\n",
    "\n",
    "set_seed(seed)\n",
    "\n",
    "def binary_data(nw) :\n",
    "    nw.data_b = np.zeros((len(nw.input_text), len(nw.chars)))\n",
    "    for i in range(len(nw.data)) :\n",
    "        nw.data_b[i][nw.data[i]] = 1\n",
    "    return(nw)    \n",
    "\n",
    "def initialisation(nw) :\n",
    "    nw.Win = (np.random.rand(nw.resSize,1+nw.inSize)-0.5) * nw.input_scaling\n",
    "    nw.W = np.random.rand(nw.resSize,nw.resSize)-0.5 \n",
    "    nw.X = np.zeros((1+nw.inSize+nw.resSize,nw.trainLen-nw.initLen))\n",
    "    nw.Ytarget = nw.data_b[nw.initLen+1:nw.trainLen+1].T\n",
    "    nw.x = np.zeros((nw.resSize,1))  \n",
    "    return(nw)\n",
    "\n",
    "def calcul_rayon_spectral(nw):\n",
    "    print('Calcul du rayon spectral',end=\" \")\n",
    "    rhoW = max(abs(linalg.eig(nw.W)[0]))\n",
    "    print('effectué.')\n",
    "    nw.W *= nw.spectral_radius / rhoW\n",
    "    return(nw)\n",
    "\n",
    "def train_input(nw) :\n",
    "    for t in range(nw.trainLen):\n",
    "        nw.u = nw.data_b[t]\n",
    "        nw.x = (1-nw.a)*nw.x + nw.a*np.tanh( np.dot(nw.Win, np.concatenate((np.array([1]),nw.u)).reshape(len(nw.chars)+1,1) ) + np.dot( nw.W, nw.x ) )\n",
    "        if t >= nw.initLen :\n",
    "            nw.X[:,t-nw.initLen] = np.concatenate((np.array([1]),nw.u,nw.x[:,0])).reshape(len(nw.chars)+nw.resSize+1,1)[:,0]      \n",
    "    return(nw)\n",
    "\n",
    "def train_output(nw) :\n",
    "    nw.X_T = nw.X.T\n",
    "    if nw.reg is not None:\n",
    "        nw.Wout = np.dot(np.dot(nw.Ytarget,nw.X_T), linalg.inv(np.dot(nw.X,nw.X_T) + \\\n",
    "            nw.reg*np.eye(1+nw.inSize+nw.resSize) ) )\n",
    "    else:\n",
    "        nw.Wout = np.dot(nw.Ytarget, linalg.pinv(nw.X) )   \n",
    "    return(nw)\n",
    "\n",
    "def test(nw) :\n",
    "    nw.Y = np.zeros((nw.outSize,nw.testLen))\n",
    "    nw.u = nw.data_b[nw.trainLen]\n",
    "    for t in range(nw.testLen):\n",
    "        nw.x = (1-nw.a)*nw.x + nw.a*np.tanh( np.dot(nw.Win, np.concatenate((np.array([1]),nw.u)).reshape(len(nw.chars)+1,1)\\\n",
    "                                                   ) + np.dot(nw.W,nw.x ) )\n",
    "        nw.y = np.dot(nw.Wout, np.concatenate((np.array([1]),nw.u,nw.x[:,0])).reshape(len(nw.chars)+nw.resSize+1,1)[:,0] )\n",
    "        nw.Y[:,t] = nw.y\n",
    "        if nw.mode == 'generative':\n",
    "            # generative mode:\n",
    "            nw.u = nw.y\n",
    "        elif nw.mode == 'prediction':\n",
    "            ## predictive mode:\n",
    "            nw.u = np.zeros(len(nw.chars))\n",
    "            nw.u[nw.data[nw.trainLen+t+1]] = 1\n",
    "        else:\n",
    "            raise(Exception, \"ERROR: 'mode' was not set correctly.\")\n",
    "    return(nw)\n",
    "\n",
    "def compute_error(nw) :\n",
    "    errorLen = 500\n",
    "    mse = sum( np.square( nw.data[nw.trainLen+1:nw.trainLen+errorLen+1] - nw.Y[0,0:errorLen] ) ) / errorLen\n",
    "    print('MSE = ' + str( mse ))\n",
    "    return(nw)\n",
    "\n",
    "def compute_network(nw) :\n",
    "    nw = binary_data(nw)\n",
    "    nw = initialisation(nw)\n",
    "    nw = calcul_rayon_spectral(nw)\n",
    "    nw = train_input(nw)\n",
    "    nw = train_output(nw)\n",
    "    nw = test(nw) \n",
    "    nw = compute_error(nw)\n",
    "    return(nw)"
   ]
  },
  {
   "cell_type": "markdown",
   "metadata": {},
   "source": [
    "Now that the program is set, we can launch the program and see the text it generates :"
   ]
  },
  {
   "cell_type": "code",
   "execution_count": 8,
   "metadata": {
    "collapsed": false
   },
   "outputs": [
    {
     "name": "stdout",
     "output_type": "stream",
     "text": [
      "Calcul du rayon spectral effectué.\n",
      "MSE = 1508.26175002\n",
      "ththtl tn ahee Aht tttr torir tnd theeuhoor hetoe t   the    oir ttttr   i nn s an  sns  \n",
      "MENENIUS:\n",
      "Whet an tthetde \n",
      "\n",
      "MERCIUS:\n",
      "Ttuaaaaaaou aaua  wou toet s sst\n",
      "TTER   d    Wha   s aitts zEReiuss\n",
      "\n",
      "FERCIUS:\n",
      "Ta    that s ahe sat e  \n",
      "\n",
      "MER        Whe so a on  ttne the aeruuuueane tndtn at\n",
      "\n",
      "MERCIUS:\n",
      "T  n tolt tu t h hhe  thraoet  tetsta tdtth te  hof  sast  ttror  osn  \n",
      "\n",
      "ecc tu  telt tnl    \n",
      "\n",
      "Mirst Ctctt     ERuinss tshn thes thet tou tate tlt  l ahu  tst whe heruteueane tndtn at\n",
      "\n",
      "MERCIUS:\n",
      "The  aete tntl t    Thtl   and t ss  thet thsl tethtou thutsh\n",
      "\n",
      " stt tt tooeou  oen oou nln   Tnd chle t  ndouhesg oee thet t  n  T  hl l tht  ta tn eoae \n",
      "\n",
      "MifEUEUS:\n",
      "Tou tete tirr   hhu   e  \n",
      "\n",
      "MERCIUS:\n",
      "Tha  set  thutet  the thr   eeothe cnr  tnd te \n",
      "\n",
      "S:r teoerreh  t  l ee eeeeeheeane Tf eohooohre oethetes \n",
      "te an tntltn  het t tn teett thrtesd \n",
      "\n",
      "First Ctctt     he   thu  e sEReenss An      s r titizzzs th the   hhte \n",
      "\n",
      "MifEUEUS:\n",
      "T  hn tou  tor o  ooouent \n",
      "\n",
      "FERCIUS:\n",
      "Tece tn tn   nd h cn tou t t  \n",
      "\n",
      "ht   aikahas  theu  eet  tt  tantn e oene tthene anhthee s  toto \n",
      "\n",
      "hat  tn htheu sehn  \n",
      "\n",
      "t td s  h   \n",
      "\n",
      "Fh hS:\n",
      "ttt titns zEReiuss   sl h    tserttr  toasho and ton e thlheshs  e   TNenttot te etg ohes aestng   \n",
      "\n",
      "FENENIUS:\n",
      "Wf thes -\n",
      "ss \n",
      "TMirst ttctt     ou  toneett thuthe tititiue ahe    t  eo    f  she t    ooennd  on h d hs \n",
      "\n",
      "Fh hS:\n",
      "ttitE EUS:\n",
      "Tou l aERuius \n",
      "TMirst ttctt     MERCIUS:\n",
      "Tot  ti  ahe  oorl u \n",
      " he aeruuuueaete tass saued ahne the   tet  ahes e  Ahutottethe   tot d  t\n",
      "\n",
      "ht  e   t toshng    Tou  tenl   iosh aillltor he toot  tire   \n",
      "\n",
      "Me i  US:\n",
      "Tht t e  tandtt toeur tn tntthes aERuiuss\n",
      "\n",
      "MuoShS:\n",
      "ta tat aoutnuarl\n",
      "\n",
      "Fe i  US:\n",
      "Tha  thlthl  aoau  oahenesd  aor the soareeo -\n",
      "\n",
      "FuoShS:\n",
      "tEtees sou ses aot tnd tno  \n",
      "\n",
      "Fe i  US:\n",
      "Tot \n",
      "\n",
      "et tes ahnsd  \n",
      "\n",
      "FuoShS:\n",
      "tett  aese   te aall tou eearesthutons the too  \n",
      "\n",
      "Me iUoUS:\n",
      "Tet-     he aan    tan  \n",
      "\n",
      "MuoShS:\n",
      "the aeeae d tht  to eur ses  te an toeneoohedtoaur thrteltt tenlnn  \n",
      "\n",
      "Me i  US:\n",
      "Teci tnton s   Thth    ththetodd soroo    tit  ln  the hhet   rhath ta ahe\n"
     ]
    }
   ],
   "source": [
    "nw = compute_network(nw)\n",
    "\n",
    "def convert_output(nw) :\n",
    "    nw.output_text = \"\"\n",
    "    for i in range(len(nw.Y.T)) :\n",
    "        nw.output_text += nw.chars[nw.Y.T[i].argmax()]\n",
    "    return(nw)\n",
    "\n",
    "nw = convert_output(nw)\n",
    "print(nw.output_text)"
   ]
  },
  {
   "cell_type": "code",
   "execution_count": null,
   "metadata": {
    "collapsed": true
   },
   "outputs": [],
   "source": []
  },
  {
   "cell_type": "code",
   "execution_count": null,
   "metadata": {
    "collapsed": true
   },
   "outputs": [],
   "source": []
  },
  {
   "cell_type": "code",
   "execution_count": null,
   "metadata": {
    "collapsed": true
   },
   "outputs": [],
   "source": []
  },
  {
   "cell_type": "code",
   "execution_count": null,
   "metadata": {
    "collapsed": true
   },
   "outputs": [],
   "source": []
  }
 ],
 "metadata": {
  "kernelspec": {
   "display_name": "Python 3",
   "language": "python",
   "name": "python3"
  },
  "language_info": {
   "codemirror_mode": {
    "name": "ipython",
    "version": 3
   },
   "file_extension": ".py",
   "mimetype": "text/x-python",
   "name": "python",
   "nbconvert_exporter": "python",
   "pygments_lexer": "ipython3",
   "version": "3.5.1"
  }
 },
 "nbformat": 4,
 "nbformat_minor": 0
}
