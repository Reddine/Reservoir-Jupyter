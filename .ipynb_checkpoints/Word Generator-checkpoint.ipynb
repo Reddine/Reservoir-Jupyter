{
 "cells": [
  {
   "cell_type": "markdown",
   "metadata": {
    "collapsed": true
   },
   "source": [
    "# Word Generator"
   ]
  },
  {
   "cell_type": "markdown",
   "metadata": {},
   "source": [
    "This program will use Mantas Lukoševičius' ESN to try to generate new words, from an input text. While the main program is explained in the \"Minimal ESN - EN\" notebook, we will here focus on the added parts that will help achieving this task."
   ]
  },
  {
   "cell_type": "code",
   "execution_count": 5,
   "metadata": {
    "collapsed": true
   },
   "outputs": [],
   "source": [
    "%matplotlib inline\n",
    "import numpy as np\n",
    "import matplotlib.pyplot as plt\n",
    "from scipy import linalg\n",
    "from ipywidgets import *\n",
    "from IPython.display import *\n",
    "\n",
    "def set_seed(seed=None):\n",
    "    \"\"\"Making the seed (for random values) variable if None\"\"\"\n",
    "\n",
    "    if seed is None:\n",
    "        import time\n",
    "        seed = int((time.time()*10**6) % 4294967295)\n",
    "        print(seed)\n",
    "    try:\n",
    "        np.random.seed(seed)\n",
    "        print(\"Seed used for random values:\", seed)\n",
    "    except:\n",
    "        print(\"!!! WARNING !!!: Seed was not set correctly.\")\n",
    "    return seed\n",
    "\n",
    "class Network(object):\n",
    "\n",
    "    def __init__(self, trainLen=2000, testLen=2000, initLen=100) :\n",
    "        self.initLen = initLen\n",
    "        self.trainLen = trainLen\n",
    "        self.testLen = testLen\n",
    "        self.file = open(\"SherlockHolmes.txt\", \"r\").read()\n",
    "\n",
    "nw = Network()"
   ]
  },
  {
   "cell_type": "markdown",
   "metadata": {},
   "source": [
    "The next function analyzes a text (here, the beginning of Sir Arthur Conan Doyle's <i>A Study in Scarlet</i>, containing 3608 symbols), and returns a list containing all the different characters that are present in the text. You can choose between taking case, punctuation and/or numbers into account."
   ]
  },
  {
   "cell_type": "code",
   "execution_count": 9,
   "metadata": {
    "collapsed": false
   },
   "outputs": [
    {
     "name": "stdout",
     "output_type": "stream",
     "text": [
      "Existing characters in the text : ['H', 'g', 'W', 'I', 'b', 'x', 'F', 'c', 'P', 'd', '-', 'm', 'a', 'T', 'C', 'w', 'D', ',', 'A', 's', '8', 'h', 'B', 'G', 'y', 'q', 'M', 'l', 'p', '—', '\\n', 'v', 'k', 't', 'z', 'e', 'o', \"'\", 'U', ' ', 'S', 'N', 'i', 'j', '7', 'r', 'O', 'u', 'n', 'J', '\"', 'f', 'E', '.', 'L', '1'] - Number of characters : 56\n"
     ]
    }
   ],
   "source": [
    "def characters(nw, keep_upper=True, keep_punctuation=True, keep_numbers=True) :\n",
    "\n",
    "    alphabet = list(\"abcdefghijklmnopqrstuvwxyzABCDEFGHIJKLMNOPQRSTUVWXYZ0123456789 \")\n",
    "    numbers = list(\"0123456789\")\n",
    "\n",
    "    if keep_upper == False : nw.file = nw.file.lower()\n",
    "\n",
    "    nw.input_text = list(nw.file)\n",
    "\n",
    "    if keep_punctuation == False :\n",
    "        nw.input_text = [i for i in nw.input_text if i in alphabet]\n",
    "\n",
    "    if keep_numbers == False :\n",
    "        nw.input_text = [i for i in nw.input_text if i in alphabet]\n",
    "\n",
    "    nw.chars = list(set(nw.file))\n",
    "    print(\"Existing characters in the text :\", nw.chars,\"- Number of characters :\", len(nw.chars))\n",
    "    \n",
    "    return(nw)\n",
    "\n",
    "nw = characters(nw, keep_upper=True, keep_punctuation=True, keep_numbers=True)"
   ]
  },
  {
   "cell_type": "markdown",
   "metadata": {},
   "source": [
    "Finally, we will convert the text values into numerical values, usable by the algorithm. We will consider the input as a vector $u(t)$, where each line matches a different character, according to <b>nw.chars</b>. Since there only can be one character at a time, we will convert the text from nw.input_text into a nw.data vector, where each element will be a character ID according to its position in nw.chars."
   ]
  },
  {
   "cell_type": "code",
   "execution_count": 14,
   "metadata": {
    "collapsed": false
   },
   "outputs": [
    {
     "name": "stdout",
     "output_type": "stream",
     "text": [
      "[ 3 48 39 ..., 11 53 39]\n"
     ]
    }
   ],
   "source": [
    "nw.data = np.array([nw.chars.index(i) for i in nw.input_text])\n",
    "print(nw.data)"
   ]
  },
  {
   "cell_type": "markdown",
   "metadata": {},
   "source": [
    "Now, we can try this on our network. The input $u$ will now be a vector, matching the size of nw.chars. Every time the program \"reads\" a character, we will give the corresponding u neuron a value of 1. In any other case, this value will be 0. Let's plot the input data."
   ]
  },
  {
   "cell_type": "code",
   "execution_count": 19,
   "metadata": {
    "collapsed": false
   },
   "outputs": [
    {
     "data": {
      "image/png": "[encoded data removed]",
      "text/plain": [
       "<matplotlib.figure.Figure at 0x29f45f85780>"
      ]
     },
     "metadata": {},
     "output_type": "display_data"
    }
   ],
   "source": [
    "def plot_figure(f) :\n",
    "    plt.figure(1).clear()\n",
    "    limit = np.arange(int(f))\n",
    "    plt.plot(limit,nw.data[0:int(f)], 'ro')\n",
    "    plt.title('Characters throughout the text')\n",
    "    \n",
    "interact(plot_figure, f=FloatSlider(value=500,min=100,max=len(nw.data),step=1,continuous_update=False));"
   ]
  },
  {
   "cell_type": "markdown",
   "metadata": {},
   "source": [
    "Let's launch the network."
   ]
  },
  {
   "cell_type": "code",
   "execution_count": 20,
   "metadata": {
    "collapsed": true
   },
   "outputs": [],
   "source": [
    "def initialisation(nw) :\n",
    "    nw.Win = (np.random.rand(nw.resSize,1+nw.inSize)-0.5) * nw.input_scaling\n",
    "    nw.W = np.random.rand(nw.resSize,nw.resSize)-0.5 \n",
    "    nw.X = np.zeros((1+nw.inSize+nw.resSize,nw.trainLen-nw.initLen))\n",
    "    nw.Ytarget = nw.data[None,nw.initLen+1:nw.trainLen+1]\n",
    "    nw.x = np.zeros((nw.resSize,1))  \n",
    "    return(nw)\n",
    "\n",
    "def calcul_rayon_spectral(nw):\n",
    "    print('Calcul du rayon spectral',end=\" \")\n",
    "    rhoW = max(abs(linalg.eig(nw.W)[0]))\n",
    "    print('Effectué.')\n",
    "    nw.W *= nw.spectral_radius / rhoW\n",
    "    return(nw)\n",
    "\n",
    "def train_input(nw) :\n",
    "    for t in range(nw.trainLen):\n",
    "        nw.u = nw.data[t]\n",
    "        \n",
    "        nw.x = (1-nw.a)*nw.x + nw.a*np.tanh( np.dot(nw.Win, np.vstack((1,nw.u)) ) + np.dot( nw.W, nw.x ) )\n",
    "        if t >= nw.initLen:\n",
    "            nw.X[:,t-nw.initLen] = np.vstack((1,nw.u,nw.x))[:,0]      \n",
    "    return(nw)\n",
    "\n",
    "def train_output(nw) :\n",
    "    nw.X_T = nw.X.T\n",
    "    if nw.reg is not None:\n",
    "        nw.Wout = np.dot(np.dot(nw.Ytarget,nw.X_T), linalg.inv(np.dot(nw.X,nw.X_T) + \\\n",
    "            nw.reg*np.eye(1+nw.inSize+nw.resSize) ) )\n",
    "    else:\n",
    "        nw.Wout = np.dot(nw.Ytarget, linalg.pinv(nw.X) )   \n",
    "    return(nw)\n",
    "\n",
    "def test(nw) :\n",
    "    nw.Y = np.zeros((nw.outSize,nw.testLen))\n",
    "    nw.u = nw.data[nw.trainLen]\n",
    "    for t in range(nw.testLen):\n",
    "        nw.x = (1-nw.a)*nw.x + nw.a*np.tanh( np.dot(nw.Win, np.vstack((1,nw.u)) ) + np.dot(nw.W,nw.x ) )\n",
    "        nw.y = np.dot(nw.Wout, np.vstack((1,nw.u,nw.x)) )\n",
    "        nw.Y[:,t] = nw.y\n",
    "        if nw.mode == 'generative':\n",
    "            # generative mode:\n",
    "            nw.u = nw.y\n",
    "        elif nw.mode == 'prediction':\n",
    "            ## predictive mode:\n",
    "            nw.u = nw.data[nw.trainLen+t+1] \n",
    "        else:\n",
    "            raise(Exception, \"ERROR: 'mode' was not set correctly.\")\n",
    "    return(nw)\n",
    "\n",
    "def compute_error(nw) :\n",
    "    errorLen = 500\n",
    "    mse = sum( np.square( nw.data[nw.trainLen+1:nw.trainLen+errorLen+1] - nw.Y[0,0:errorLen] ) ) / errorLen\n",
    "    print('MSE = ' + str( mse ))\n",
    "    return(nw)\n",
    "\n",
    "def compute_network(nw) :\n",
    "    nw = initialisation(nw)\n",
    "    nw = calcul_rayon_spectral(nw)\n",
    "    nw = train_input(nw)\n",
    "    nw = train_output(nw)\n",
    "    nw = test(nw) \n",
    "    nw = compute_error(nw)\n",
    "    return(nw)"
   ]
  },
  {
   "cell_type": "code",
   "execution_count": null,
   "metadata": {
    "collapsed": true
   },
   "outputs": [],
   "source": []
  }
 ],
 "metadata": {
  "kernelspec": {
   "display_name": "Python 3",
   "language": "python",
   "name": "python3"
  },
  "language_info": {
   "codemirror_mode": {
    "name": "ipython",
    "version": 3
   },
   "file_extension": ".py",
   "mimetype": "text/x-python",
   "name": "python",
   "nbconvert_exporter": "python",
   "pygments_lexer": "ipython3",
   "version": "3.5.1"
  }
 },
 "nbformat": 4,
 "nbformat_minor": 0
}
