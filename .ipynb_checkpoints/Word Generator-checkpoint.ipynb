{
 "cells": [
  {
   "cell_type": "markdown",
   "metadata": {
    "collapsed": true
   },
   "source": [
    "# Word Generator"
   ]
  },
  {
   "cell_type": "markdown",
   "metadata": {},
   "source": [
    "This program will use Mantas Lukoševičius' ESN to try to generate new words, from an input text. While the main program is explained in the \"Minimal ESN - EN\" notebook, we will here focus on the added parts that will help achieving this task."
   ]
  },
  {
   "cell_type": "code",
   "execution_count": 1,
   "metadata": {
    "collapsed": true
   },
   "outputs": [],
   "source": [
    "%matplotlib inline\n",
    "import numpy as np\n",
    "import matplotlib.pyplot as plt\n",
    "from scipy import linalg\n",
    "from ipywidgets import *\n",
    "from IPython.display import *\n",
    "\n",
    "def set_seed(seed=None):\n",
    "    \"\"\"Making the seed (for random values) variable if None\"\"\"\n",
    "\n",
    "    if seed is None:\n",
    "        import time\n",
    "        seed = int((time.time()*10**6) % 4294967295)\n",
    "        print(seed)\n",
    "    try:\n",
    "        np.random.seed(seed)\n",
    "        print(\"Seed used for random values:\", seed)\n",
    "    except:\n",
    "        print(\"!!! WARNING !!!: Seed was not set correctly.\")\n",
    "    return seed\n",
    "\n",
    "class Network(object):\n",
    "\n",
    "    def __init__(self, trainLen=2000, testLen=2000, initLen=100) :\n",
    "        self.initLen = initLen\n",
    "        self.trainLen = trainLen\n",
    "        self.testLen = testLen\n",
    "        self.data = open(\"SherlockHolmes.txt\", \"r\").read()\n",
    "\n",
    "nw = Network()"
   ]
  },
  {
   "cell_type": "markdown",
   "metadata": {},
   "source": [
    "The next function analyzes a text (here, the beginning of Sir Arthur Conan Doyle's <i>A Study in Scarlet</i>, containing 3608 symbols), and returns a list containing all the different characters that are present in the text. You can choose between taking case, punctuation and/or numbers into account."
   ]
  },
  {
   "cell_type": "code",
   "execution_count": 2,
   "metadata": {
    "collapsed": true
   },
   "outputs": [],
   "source": [
    "def characters(nw, keep_upper=True, keep_punctuation=True, keep_numbers=True) :\n",
    "\n",
    "    alphabet = list(\"abcdefghijklmnopqrstuvwxyzABCDEFGHIJKLMNOPQRSTUVWXYZ0123456789 \")\n",
    "    numbers = list(\"0123456789\")\n",
    "\n",
    "    if keep_upper == False : file = file.lower()\n",
    "\n",
    "    nw.input_text = list(file)\n",
    "\n",
    "    if keep_punctuation == False :\n",
    "        nw.input_text = [i for i in nw.input_text if i in alphabet]\n",
    "\n",
    "    if keep_numbers == False :\n",
    "        nw.input_text = [i for i in nw.input_text if i in alphabet]\n",
    "\n",
    "    nw.chars = list(set(file))\n",
    "    \n",
    "    return(nw)"
   ]
  },
  {
   "cell_type": "markdown",
   "metadata": {},
   "source": [
    "Finally, we will convert the text values into numerical values, usable by the algorithm. We will "
   ]
  }
 ],
 "metadata": {
  "kernelspec": {
   "display_name": "Python 3",
   "language": "python",
   "name": "python3"
  },
  "language_info": {
   "codemirror_mode": {
    "name": "ipython",
    "version": 3
   },
   "file_extension": ".py",
   "mimetype": "text/x-python",
   "name": "python",
   "nbconvert_exporter": "python",
   "pygments_lexer": "ipython3",
   "version": "3.5.1"
  }
 },
 "nbformat": 4,
 "nbformat_minor": 0
}
