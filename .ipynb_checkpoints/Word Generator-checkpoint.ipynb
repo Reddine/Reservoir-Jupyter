{
 "cells": [
  {
   "cell_type": "markdown",
   "metadata": {
    "collapsed": true
   },
   "source": [
    "# Word Generator"
   ]
  },
  {
   "cell_type": "markdown",
   "metadata": {},
   "source": [
    "This program will use Mantas Lukoševičius' ESN to try to generate new words, from an input text. While the main program is explained in the \"Minimal ESN - EN\" notebook, we will here focus on the added parts that will help achieving this task."
   ]
  },
  {
   "cell_type": "code",
   "execution_count": 156,
   "metadata": {
    "collapsed": true
   },
   "outputs": [],
   "source": [
    "%matplotlib inline\n",
    "import numpy as np\n",
    "import matplotlib.pyplot as plt\n",
    "from scipy import linalg\n",
    "from ipywidgets import *\n",
    "from IPython.display import *\n",
    "\n",
    "def set_seed(seed=None):\n",
    "    \"\"\"Making the seed (for random values) variable if None\"\"\"\n",
    "\n",
    "    if seed is None:\n",
    "        import time\n",
    "        seed = int((time.time()*10**6) % 4294967295)\n",
    "        print(seed)\n",
    "    try:\n",
    "        np.random.seed(seed)\n",
    "        print(\"Seed used for random values:\", seed)\n",
    "    except:\n",
    "        print(\"!!! WARNING !!!: Seed was not set correctly.\")\n",
    "    return seed\n",
    "\n",
    "class Network(object):\n",
    "\n",
    "    def __init__(self, trainLen=2000, testLen=1000, initLen=100) :\n",
    "        self.initLen = initLen\n",
    "        self.trainLen = trainLen\n",
    "        self.testLen = testLen\n",
    "        self.file = open(\"SherlockHolmes.txt\", \"r\").read()\n",
    "\n",
    "nw = Network()"
   ]
  },
  {
   "cell_type": "markdown",
   "metadata": {},
   "source": [
    "The next function analyzes a text (here, the beginning of Sir Arthur Conan Doyle's <i>A Study in Scarlet</i>, containing 3608 symbols), and returns a list containing all the different characters that are present in the text. You can choose between taking case, punctuation and/or numbers into account."
   ]
  },
  {
   "cell_type": "code",
   "execution_count": 160,
   "metadata": {
    "collapsed": false
   },
   "outputs": [
    {
     "name": "stdout",
     "output_type": "stream",
     "text": [
      "Existing characters in the text : ['H', 'g', 'W', 'I', 'b', 'x', 'F', 'c', 'P', 'd', 'm', 'a', 'T', 'C', 'w', 'D', 's', 'h', 'B', 'G', 'y', 'q', 'M', 'l', 'p', 'v', 'k', 't', 'z', 'e', 'o', 'U', ' ', 'S', 'N', 'i', 'j', 'r', 'O', 'u', 'n', 'J', 'f', 'E', 'L', 'A'] - Number of characters : 46\n"
     ]
    }
   ],
   "source": [
    "def characters(nw, keep_upper=True, keep_punctuation=True, keep_numbers=True) :\n",
    "\n",
    "    alphabet = list(\"abcdefghijklmnopqrstuvwxyzABCDEFGHIJKLMNOPQRSTUVWXYZ0123456789 \")\n",
    "    numbers = list(\"0123456789\")\n",
    "\n",
    "    if keep_upper == False : nw.file = nw.file.lower()\n",
    "    nw.input_text = list(nw.file)\n",
    "\n",
    "    if keep_punctuation == False :\n",
    "        nw.input_text = [i for i in nw.input_text if i in alphabet]     \n",
    "\n",
    "    if keep_numbers == False :\n",
    "        nw.input_text = [i for i in nw.input_text if i not in numbers]\n",
    "\n",
    "    nw.chars = list(set(nw.input_text))\n",
    "    print(\"Existing characters in the text :\", nw.chars,\"- Number of characters :\", len(nw.chars))\n",
    "    \n",
    "    return(nw)\n",
    "\n",
    "nw = characters(nw, True, False, False)"
   ]
  },
  {
   "cell_type": "markdown",
   "metadata": {},
   "source": [
    "Finally, we will convert the text values into numerical values, usable by the algorithm. We will consider the input as a vector $u(t)$, where each line matches a different character, according to <b>nw.chars</b>. Since there only can be one character at a time, we will convert the text from nw.input_text into a nw.data vector, where each element will be a character ID according to its position in nw.chars."
   ]
  },
  {
   "cell_type": "code",
   "execution_count": 161,
   "metadata": {
    "collapsed": false
   },
   "outputs": [
    {
     "name": "stdout",
     "output_type": "stream",
     "text": [
      "[ 3 40 32 ..., 30 10 32]\n"
     ]
    }
   ],
   "source": [
    "nw.data = np.array([nw.chars.index(i) for i in nw.input_text])\n",
    "print(nw.data)"
   ]
  },
  {
   "cell_type": "markdown",
   "metadata": {},
   "source": [
    "Now, we can try this on our network. The input $u$ will now be a vector, matching the size of nw.chars. Every time the program \"reads\" a character, we will give the corresponding u neuron a value of 1. In any other case, this value will be 0. Let's plot the input data."
   ]
  },
  {
   "cell_type": "code",
   "execution_count": 162,
   "metadata": {
    "collapsed": false
   },
   "outputs": [
    {
     "data": {
      "image/png": "[encoded data removed]",
      "text/plain": [
       "<matplotlib.figure.Figure at 0x29f4587a550>"
      ]
     },
     "metadata": {},
     "output_type": "display_data"
    }
   ],
   "source": [
    "def plot_figure(f) :\n",
    "    plt.figure(1).clear()\n",
    "    limit = np.arange(int(f))\n",
    "    plt.plot(limit,nw.data[0:int(f)], 'ro')\n",
    "    plt.title('Characters throughout the text')\n",
    "    \n",
    "interact(plot_figure, f=FloatSlider(value=500,min=100,max=len(nw.data),step=1,continuous_update=False));"
   ]
  },
  {
   "cell_type": "markdown",
   "metadata": {},
   "source": [
    "Let's launch the network."
   ]
  },
  {
   "cell_type": "code",
   "execution_count": 163,
   "metadata": {
    "collapsed": false
   },
   "outputs": [
    {
     "name": "stdout",
     "output_type": "stream",
     "text": [
      "3034011780\n",
      "Seed used for random values: 3034011780\n"
     ]
    }
   ],
   "source": [
    "nw.inSize = nw.outSize = len(nw.chars)\n",
    "nw.resSize = 300\n",
    "nw.a = 0.3\n",
    "nw.spectral_radius = 0.25\n",
    "nw.input_scaling = 1.\n",
    "nw.reg =  1e-8\n",
    "\n",
    "nw.mode = 'prediction'\n",
    "\n",
    "seed = None #42\n",
    "\n",
    "set_seed(seed)\n",
    "\n",
    "def binary_data(nw) :\n",
    "    nw.data_b = np.zeros((len(nw.input_text), len(nw.chars)))\n",
    "    for i in range(len(nw.data)) :\n",
    "        nw.data_b[i][nw.data[i]] = 1\n",
    "    return(nw)    \n",
    "\n",
    "def initialisation(nw) :\n",
    "    nw.Win = (np.random.rand(nw.resSize,1+nw.inSize)-0.5) * nw.input_scaling\n",
    "    nw.W = np.random.rand(nw.resSize,nw.resSize)-0.5 \n",
    "    nw.X = np.zeros((1+nw.inSize+nw.resSize,nw.trainLen-nw.initLen))\n",
    "    nw.Ytarget = nw.data_b[nw.initLen+1:nw.trainLen+1].T\n",
    "    nw.x = np.zeros((nw.resSize,1))  \n",
    "    return(nw)\n",
    "\n",
    "def calcul_rayon_spectral(nw):\n",
    "    print('Calcul du rayon spectral',end=\" \")\n",
    "    rhoW = max(abs(linalg.eig(nw.W)[0]))\n",
    "    print('effectué.')\n",
    "    nw.W *= nw.spectral_radius / rhoW\n",
    "    return(nw)\n",
    "\n",
    "def train_input(nw) :\n",
    "    for t in range(nw.trainLen):\n",
    "        nw.u = nw.data_b[t]\n",
    "        nw.x = (1-nw.a)*nw.x + nw.a*np.tanh( np.dot(nw.Win, np.concatenate((np.array([1]),nw.u)).reshape(len(nw.chars)+1,1) ) + np.dot( nw.W, nw.x ) )\n",
    "        if t >= nw.initLen :\n",
    "            nw.X[:,t-nw.initLen] = np.concatenate((np.array([1]),nw.u,nw.x[:,0])).reshape(len(nw.chars)+nw.resSize+1,1)[:,0]      \n",
    "    return(nw)\n",
    "\n",
    "def train_output(nw) :\n",
    "    nw.X_T = nw.X.T\n",
    "    if nw.reg is not None:\n",
    "        nw.Wout = np.dot(np.dot(nw.Ytarget,nw.X_T), linalg.inv(np.dot(nw.X,nw.X_T) + \\\n",
    "            nw.reg*np.eye(1+nw.inSize+nw.resSize) ) )\n",
    "    else:\n",
    "        nw.Wout = np.dot(nw.Ytarget, linalg.pinv(nw.X) )   \n",
    "    return(nw)\n",
    "\n",
    "def test(nw) :\n",
    "    nw.Y = np.zeros((nw.outSize,nw.testLen))\n",
    "    nw.u = nw.data_b[nw.trainLen]\n",
    "    for t in range(nw.testLen):\n",
    "        nw.x = (1-nw.a)*nw.x + nw.a*np.tanh( np.dot(nw.Win, np.concatenate((np.array([1]),nw.u)).reshape(len(nw.chars)+1,1)\\\n",
    "                                                   ) + np.dot(nw.W,nw.x ) )\n",
    "        nw.y = np.dot(nw.Wout, np.concatenate((np.array([1]),nw.u,nw.x[:,0])).reshape(len(nw.chars)+nw.resSize+1,1)[:,0] )\n",
    "        nw.Y[:,t] = nw.y\n",
    "        if nw.mode == 'generative':\n",
    "            # generative mode:\n",
    "            nw.u = nw.y\n",
    "        elif nw.mode == 'prediction':\n",
    "            ## predictive mode:\n",
    "            nw.u = np.zeros(len(nw.chars))\n",
    "            nw.u[nw.data[nw.trainLen+t+1]] = 1\n",
    "        else:\n",
    "            raise(Exception, \"ERROR: 'mode' was not set correctly.\")\n",
    "    return(nw)\n",
    "\n",
    "def compute_error(nw) :\n",
    "    errorLen = 500\n",
    "    mse = sum( np.square( nw.data[nw.trainLen+1:nw.trainLen+errorLen+1] - nw.Y[0,0:errorLen] ) ) / errorLen\n",
    "    print('MSE = ' + str( mse ))\n",
    "    return(nw)\n",
    "\n",
    "def compute_network(nw) :\n",
    "    nw = binary_data(nw)\n",
    "    nw = initialisation(nw)\n",
    "    nw = calcul_rayon_spectral(nw)\n",
    "    nw = train_input(nw)\n",
    "    nw = train_output(nw)\n",
    "    nw = test(nw) \n",
    "    nw = compute_error(nw)\n",
    "    return(nw)"
   ]
  },
  {
   "cell_type": "markdown",
   "metadata": {},
   "source": [
    "Now that the program is set, we can launch the program and see the text it generates :"
   ]
  },
  {
   "cell_type": "code",
   "execution_count": 164,
   "metadata": {
    "collapsed": false
   },
   "outputs": [
    {
     "name": "stdout",
     "output_type": "stream",
     "text": [
      "Calcul du rayon spectral effectué.\n",
      "MSE = 787.105011683\n",
      "hdddddaeeedeet tewh wtaat the aoo               l tt hryshee ahnnnaaonedanna aad aodn    Innn eotttenoonotnggand and aas  he e  r  In s oattttttten tn d ooyan atddtdete tnotnnnedtttattie    nd hho              tteeeteiseennynddhtte aeeeeeeeeeeooooooeeeeeee e wdd     e  ieeennn   ah thhhhhhhhhhhdrd d ioo  a  aaaa  aaonh ttteshe aistdede hnd hn ese an ahe anganadanddaneea o  oee eeoun d hhe   I whh    tor       hoa an antaooena aan   bn ahe auheld gaan n    toueerene   iy ndnd      n              att t  m ceetentd en r wad aouu n tulle eetedtao  y theddd wuth  hurtllnnnng aeneehe aaan     ay aetetdedetedone ther s wh u ueannnnd th     w n eenn    Iannedtoa ay reus tnnnnd socceeee  o         In the aourdea In Ihe  i wyr eeyn nonoouestteddnd   ninn en te ehh   ff aanene aannnanhhahe aan e  Inn   ed eert wo    dr ueu o  mroto ayssithhtatnedtoa aau   hnd sh thh   nooo aiiiiiiiiiiiii   aaa  iaiiideeena and haa  aa                 tn the aereaaeu she  o wad aoue th then aon eieeen r was serrd \n"
     ]
    }
   ],
   "source": [
    "nw = compute_network(nw)\n",
    "\n",
    "def convert_output(nw) :\n",
    "    nw.output_text = \"\"\n",
    "    for i in range(len(nw.Y.T)) :\n",
    "        nw.output_text += nw.chars[nw.Y.T[i].argmax()]\n",
    "    return(nw)\n",
    "\n",
    "nw = convert_output(nw)\n",
    "print(nw.output_text)"
   ]
  },
  {
   "cell_type": "code",
   "execution_count": null,
   "metadata": {
    "collapsed": true
   },
   "outputs": [],
   "source": []
  },
  {
   "cell_type": "code",
   "execution_count": null,
   "metadata": {
    "collapsed": true
   },
   "outputs": [],
   "source": []
  },
  {
   "cell_type": "code",
   "execution_count": null,
   "metadata": {
    "collapsed": true
   },
   "outputs": [],
   "source": []
  },
  {
   "cell_type": "code",
   "execution_count": null,
   "metadata": {
    "collapsed": true
   },
   "outputs": [],
   "source": []
  }
 ],
 "metadata": {
  "kernelspec": {
   "display_name": "Python 3",
   "language": "python",
   "name": "python3"
  },
  "language_info": {
   "codemirror_mode": {
    "name": "ipython",
    "version": 3
   },
   "file_extension": ".py",
   "mimetype": "text/x-python",
   "name": "python",
   "nbconvert_exporter": "python",
   "pygments_lexer": "ipython3",
   "version": "3.5.1"
  }
 },
 "nbformat": 4,
 "nbformat_minor": 0
}
